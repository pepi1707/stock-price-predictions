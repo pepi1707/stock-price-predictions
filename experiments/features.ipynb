{
 "cells": [
  {
   "cell_type": "code",
   "execution_count": 33,
   "id": "relevant-ethernet",
   "metadata": {},
   "outputs": [],
   "source": [
    "import tensorflow as tf\n",
    "import pandas as pd\n",
    "import numpy as np\n",
    "from tensorflow import keras\n",
    "import sklearn\n",
    "import matplotlib.pyplot as plt\n",
    "import seaborn as sns\n",
    "from pandas_datareader.data import DataReader\n",
    "from datetime import datetime\n",
    "import talib\n",
    "import talib.abstract as tabs"
   ]
  },
  {
   "cell_type": "code",
   "execution_count": 2,
   "id": "internal-rotation",
   "metadata": {},
   "outputs": [],
   "source": [
    "payload=pd.read_html('https://en.wikipedia.org/wiki/List_of_S%26P_500_companies')\n",
    "first_table = payload[0]\n",
    "tickets = first_table['Symbol'].values.tolist()\n",
    "tickets.remove('BRK.B')\n",
    "tickets.remove('BF.B')"
   ]
  },
  {
   "cell_type": "code",
   "execution_count": 143,
   "id": "qualified-disability",
   "metadata": {},
   "outputs": [],
   "source": [
    "all_stocks = []\n",
    "for ticket in tickets:\n",
    "    stocks = pd.read_csv('../datasets/yahoo/' + ticket + '.csv')\n",
    "    stocks.rename(columns=str.lower, inplace=True)\n",
    "    all_stocks.append(stocks)"
   ]
  },
  {
   "cell_type": "code",
   "execution_count": 144,
   "id": "exclusive-nicaragua",
   "metadata": {},
   "outputs": [],
   "source": [
    "def feature_extraction(df):\n",
    "    \n",
    "    # ROC\n",
    "    roc = tabs.ROC(df, timeperiod=1)\n",
    "    roc = np.nan_to_num(roc)\n",
    "    df['roc'] = roc\n",
    "    \n",
    "    # SMA 10\n",
    "    sma = tabs.SMA(df, timeperiod=10)\n",
    "    sma = np.nan_to_num(sma)\n",
    "    df['sma'] = sma\n",
    "    \n",
    "    # MACD, MACD SIGNAL and MACD HIST\n",
    "    \n",
    "    macd, macdsignal, macdhist = talib.MACD(df['close'])\n",
    "    macd = np.nan_to_num(macd)\n",
    "    macdsignal = np.nan_to_num(macdsignal)\n",
    "    macdhist = np.nan_to_num(macdhist)\n",
    "    df['macd'] = macd\n",
    "    df['macd_signal'] = macdsignal\n",
    "    df['macd_hist'] = macdhist\n",
    "    \n",
    "    # CCI 24\n",
    "    cci = tabs.CCI(df, timeperiod=24)\n",
    "    cci = np.nan_to_num(cci)\n",
    "    df['cci'] = cci\n",
    "    \n",
    "    #     MTM 10 \n",
    "    mtm = tabs.MOM(df, timeperiod=10)\n",
    "    mtm = np.nan_to_num(mtm)\n",
    "    df['mtm'] = mtm\n",
    "    \n",
    "    #     RSI 5 \n",
    "    rsi = tabs.RSI(df, timeperiod=5)\n",
    "    rsi = np.nan_to_num(rsi)\n",
    "    df['rsi'] = rsi\n",
    "    \n",
    "    #     WNR 9\n",
    "    wnr = tabs.WMA(df, timeperiod=9)\n",
    "    wnr = np.nan_to_num(wnr)\n",
    "    df['wnr'] = wnr\n",
    "    \n",
    "    #     SLOWK & SLOWD\n",
    "    slowk, slowd = talib.STOCH(df['high'], df['low'], df['close'])\n",
    "    slowk = np.nan_to_num(slowk)\n",
    "    slowd = np.nan_to_num(slowd)\n",
    "    df['slowk'] = slowk\n",
    "    df['slowd'] = slowd\n",
    "    \n",
    "    #     ADOSC \n",
    "    adosc = tabs.ADOSC(df)\n",
    "    adosc = np.nan_to_num(adosc)\n",
    "    df['adosc'] = adosc\n",
    "    \n",
    "    #     AARON\n",
    "    aroondown, aroonup = talib.AROON(df['high'], df['low'])\n",
    "    aroondown = np.nan_to_num(aroondown)\n",
    "    aroonup = np.nan_to_num(aroonup)\n",
    "    df['aroon_down'] = aroondown\n",
    "    df['aroon_up'] = aroonup\n",
    "    \n",
    "    #     BBANDS\n",
    "    upper, middle, lower = talib.BBANDS(df['close'], matype=0)\n",
    "    upper = np.nan_to_num(upper)\n",
    "    df['upper'] = upper\n",
    "    middle = np.nan_to_num(middle)\n",
    "    df['middle'] = middle\n",
    "    lower = np.nan_to_num(lower)\n",
    "    df['bbands'] = lower\n"
   ]
  },
  {
   "cell_type": "code",
   "execution_count": 145,
   "id": "hidden-dayton",
   "metadata": {},
   "outputs": [],
   "source": [
    "from sklearn.preprocessing import MinMaxScaler\n",
    "\n",
    "def feature_normalization(df):\n",
    "    features = ['volume', 'sma', 'rsi', 'wnr', 'slowk', 'slowd', 'adosc']\n",
    "    scaler = MinMaxScaler()\n",
    "    for f in features:\n",
    "        damn = np.array(df[f]).reshape((-1, 1))\n",
    "        df[f + '_mm'] = scaler.fit_transform(damn).reshape((-1))"
   ]
  },
  {
   "cell_type": "code",
   "execution_count": 147,
   "id": "intimate-typing",
   "metadata": {},
   "outputs": [],
   "source": [
    "for ticket, stock in zip(tickets, all_stocks):\n",
    "    s = stock.copy()\n",
    "    feature_extraction(s)\n",
    "    feature_normalization(s)\n",
    "    s.to_csv('../datasets/enriched/' + ticket + '.csv', index=False)"
   ]
  },
  {
   "cell_type": "code",
   "execution_count": 148,
   "id": "warming-cigarette",
   "metadata": {},
   "outputs": [],
   "source": [
    "all_stocks = []\n",
    "for ticket in tickets:\n",
    "    stocks = pd.read_csv('../datasets/enriched/' + ticket + '.csv')\n",
    "    all_stocks.append(stocks)"
   ]
  }
 ],
 "metadata": {
  "kernelspec": {
   "display_name": "Python 3",
   "language": "python",
   "name": "python3"
  },
  "language_info": {
   "codemirror_mode": {
    "name": "ipython",
    "version": 3
   },
   "file_extension": ".py",
   "mimetype": "text/x-python",
   "name": "python",
   "nbconvert_exporter": "python",
   "pygments_lexer": "ipython3",
   "version": "3.8.5"
  }
 },
 "nbformat": 4,
 "nbformat_minor": 5
}
