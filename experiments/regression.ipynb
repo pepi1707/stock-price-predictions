{
 "cells": [
  {
   "cell_type": "code",
   "execution_count": 1,
   "id": "verified-kruger",
   "metadata": {},
   "outputs": [],
   "source": [
    "import tensorflow as tf\n",
    "import pandas as pd\n",
    "import numpy as np\n",
    "from tensorflow import keras\n",
    "import sklearn\n",
    "import matplotlib.pyplot as plt\n",
    "import seaborn as sns\n",
    "from pandas_datareader.data import DataReader\n",
    "from datetime import datetime"
   ]
  },
  {
   "cell_type": "code",
   "execution_count": 2,
   "id": "southwest-password",
   "metadata": {},
   "outputs": [],
   "source": [
    "payload=pd.read_html('https://en.wikipedia.org/wiki/List_of_S%26P_500_companies')\n",
    "first_table = payload[0]\n",
    "tickets = first_table['Symbol'].values.tolist()\n",
    "tickets.remove('BRK.B')\n",
    "tickets.remove('BF.B')"
   ]
  },
  {
   "cell_type": "code",
   "execution_count": 3,
   "id": "balanced-intensity",
   "metadata": {},
   "outputs": [],
   "source": [
    "all_stocks = []\n",
    "for ticket in tickets:\n",
    "    all_stocks.append(pd.read_csv('../datasets/yahoo/' + ticket + '.csv'))"
   ]
  },
  {
   "cell_type": "code",
   "execution_count": 9,
   "id": "provincial-simon",
   "metadata": {},
   "outputs": [],
   "source": [
    "def prepare_data(X, timerange=30, split=0.1):\n",
    "    \n",
    "    train_size = int(X.shape[0] * (1 - split))\n",
    "    train_size = min(train_size, X.shape[0] - timerange)\n",
    "    \n",
    "    test_size = X.shape[0] - train_size - timerange\n",
    "    \n",
    "    X_train = np.ndarray(shape=(train_size, timerange))\n",
    "    Y_train = np.ndarray(shape=(train_size))\n",
    "    for i in range(train_size):\n",
    "        X_train[i] = X[i:i+timerange]\n",
    "        Y_train[i] = X[i+timerange]\n",
    "    \n",
    "    X_test = np.ndarray(shape=(test_size, timerange))\n",
    "    Y_test = np.ndarray(shape=(test_size))\n",
    "    for i in range(test_size):\n",
    "        X_test[i] = X[train_size+i:train_size+i+timerange]\n",
    "        Y_test[i] = X[train_size+i+timerange]\n",
    "    \n",
    "    return X_train, Y_train, X_test, Y_test\n",
    "    "
   ]
  },
  {
   "cell_type": "code",
   "execution_count": 10,
   "id": "driving-jacksonville",
   "metadata": {},
   "outputs": [],
   "source": [
    "X_train, X_test = [np.ndarray(shape=(0, 30)) for i in range(2)]\n",
    "Y_train, Y_test = [np.ndarray(shape=(0)) for i in range(2)]\n",
    "for stock in all_stocks:\n",
    "    x_train, y_train, x_test, y_test = prepare_data(stock['Close'].copy())\n",
    "    X_train = np.append(X_train, x_train, axis=0)\n",
    "    Y_train = np.append(Y_train, y_train, axis=0)\n",
    "    X_test = np.append(X_test, x_test, axis=0)\n",
    "    Y_test = np.append(Y_test, y_test, axis=0)"
   ]
  },
  {
   "cell_type": "code",
   "execution_count": 11,
   "id": "loaded-lecture",
   "metadata": {},
   "outputs": [
    {
     "data": {
      "text/plain": [
       "((227367, 30), (227367,))"
      ]
     },
     "execution_count": 11,
     "metadata": {},
     "output_type": "execute_result"
    }
   ],
   "source": [
    "X_train.shape, Y_train.shape"
   ]
  },
  {
   "cell_type": "code",
   "execution_count": 12,
   "id": "green-thirty",
   "metadata": {},
   "outputs": [
    {
     "data": {
      "text/plain": [
       "LinearRegression(copy_X=True, fit_intercept=True, n_jobs=-1, normalize=False)"
      ]
     },
     "execution_count": 12,
     "metadata": {},
     "output_type": "execute_result"
    }
   ],
   "source": [
    "from sklearn.linear_model import LinearRegression\n",
    "\n",
    "model_LR = LinearRegression(n_jobs=-1)\n",
    "model_LR.fit(X_train, Y_train)"
   ]
  },
  {
   "cell_type": "code",
   "execution_count": 13,
   "id": "spare-grenada",
   "metadata": {},
   "outputs": [
    {
     "data": {
      "text/plain": [
       "0.9994860895187114"
      ]
     },
     "execution_count": 13,
     "metadata": {},
     "output_type": "execute_result"
    }
   ],
   "source": [
    "conf = model_LR.score(X_test, Y_test)\n",
    "conf"
   ]
  },
  {
   "cell_type": "code",
   "execution_count": 14,
   "id": "extreme-visiting",
   "metadata": {},
   "outputs": [
    {
     "data": {
      "image/png": "[encoded data removed]",
      "text/plain": [
       "<Figure size 432x288 with 1 Axes>"
      ]
     },
     "metadata": {
      "needs_background": "light"
     },
     "output_type": "display_data"
    }
   ],
   "source": [
    "history_size = 30\n",
    "num_points = 30\n",
    "\n",
    "offset = 4045\n",
    "\n",
    "preds = np.ndarray(shape=(num_points))\n",
    "\n",
    "curr_history = X_test[-1-offset:X_test.shape[0]-offset].copy()\n",
    "\n",
    "for i in range(preds.shape[0]):\n",
    "    preds[i] = model_LR.predict(curr_history)[0]\n",
    "    curr_history[0][:-1] = curr_history[0][1:]\n",
    "    curr_history[0][-1] = preds[i]\n",
    "\n",
    "plt.plot([i for i in range(history_size)], Y_test[-history_size-offset:Y_test.shape[0]-offset])\n",
    "plt.plot([i for i in range(history_size, history_size + num_points)], preds)\n",
    "\n",
    "plt.plot([i for i in range(history_size, history_size + num_points)],\n",
    "         Y_test[Y_test.shape[0]-offset:Y_test.shape[0]-offset+num_points])\n",
    "\n",
    "plt.show()"
   ]
  },
  {
   "cell_type": "code",
   "execution_count": 15,
   "id": "psychological-cedar",
   "metadata": {},
   "outputs": [
    {
     "data": {
      "text/plain": [
       "(array([ 45.79999924,  46.02999878,  48.22000122,  47.72999954,\n",
       "         48.65000153,  49.59000015,  49.58000183,  48.90999985,\n",
       "         49.22999954, 160.96000671, 161.55999756, 162.57000732,\n",
       "        163.36000061, 164.46000671, 163.33000183, 161.33999634,\n",
       "        159.71000671, 153.1499939 , 156.52999878, 154.25      ,\n",
       "        155.58000183, 157.38999939, 155.22999573, 157.13000488,\n",
       "        159.27999878, 160.02000427, 159.83000183, 160.61999512,\n",
       "        164.44000244, 166.60499573]),\n",
       " array([117.23903632, 117.24598358, 117.43585868, 117.79336827,\n",
       "        117.51226506, 117.69711332, 117.51381591, 117.5350637 ,\n",
       "        117.85942082, 117.71887846, 117.86605514, 118.15676976,\n",
       "        118.02388191, 118.23253634, 118.39765587, 118.52191221,\n",
       "        119.00103633, 118.94128295, 118.7561663 , 119.09561222,\n",
       "        119.17983493, 119.09603943, 119.26481064, 119.55265883,\n",
       "        119.61060084, 119.53942727, 119.65380577, 119.75551087,\n",
       "        119.82384678, 119.94853686]))"
      ]
     },
     "execution_count": 15,
     "metadata": {},
     "output_type": "execute_result"
    }
   ],
   "source": [
    "Y_test[-num_points:], preds[-num_points:]"
   ]
  },
  {
   "cell_type": "code",
   "execution_count": 16,
   "id": "caring-intention",
   "metadata": {},
   "outputs": [
    {
     "data": {
      "text/plain": [
       "KNeighborsRegressor(algorithm='auto', leaf_size=30, metric='minkowski',\n",
       "                    metric_params=None, n_jobs=None, n_neighbors=2, p=2,\n",
       "                    weights='uniform')"
      ]
     },
     "execution_count": 16,
     "metadata": {},
     "output_type": "execute_result"
    }
   ],
   "source": [
    "from sklearn.neighbors import KNeighborsRegressor\n",
    "\n",
    "clfknn = KNeighborsRegressor(n_neighbors=2)\n",
    "clfknn.fit(X_train, Y_train)"
   ]
  },
  {
   "cell_type": "code",
   "execution_count": 17,
   "id": "powerful-thumbnail",
   "metadata": {},
   "outputs": [],
   "source": [
    "confidenceknn = clfknn.score(X_test, Y_test)"
   ]
  },
  {
   "cell_type": "code",
   "execution_count": 18,
   "id": "conservative-spice",
   "metadata": {},
   "outputs": [
    {
     "data": {
      "text/plain": [
       "0.9958576589259663"
      ]
     },
     "execution_count": 18,
     "metadata": {},
     "output_type": "execute_result"
    }
   ],
   "source": [
    "confidenceknn"
   ]
  },
  {
   "cell_type": "code",
   "execution_count": 20,
   "id": "guided-devon",
   "metadata": {},
   "outputs": [
    {
     "data": {
      "image/png": "[encoded data removed]",
      "text/plain": [
       "<Figure size 432x288 with 1 Axes>"
      ]
     },
     "metadata": {
      "needs_background": "light"
     },
     "output_type": "display_data"
    }
   ],
   "source": [
    "history_size = 15\n",
    "num_points = 15\n",
    "\n",
    "offset = 2638\n",
    "\n",
    "preds = np.ndarray(shape=(num_points))\n",
    "\n",
    "curr_history = X_test[-1-offset:X_test.shape[0]-offset].copy()\n",
    "\n",
    "for i in range(preds.shape[0]):\n",
    "    preds[i] = clfknn.predict(curr_history)[0]\n",
    "    curr_history[0][:-1] = curr_history[0][1:]\n",
    "    curr_history[0][-1] = preds[i]\n",
    "\n",
    "plt.plot([i for i in range(history_size)], Y_test[-history_size-offset:Y_test.shape[0]-offset])\n",
    "plt.plot([i for i in range(history_size, history_size + num_points)], preds)\n",
    "\n",
    "plt.plot([i for i in range(history_size, history_size + num_points)],\n",
    "         Y_test[Y_test.shape[0]-offset:Y_test.shape[0]-offset+num_points])\n",
    "\n",
    "plt.show()"
   ]
  },
  {
   "cell_type": "code",
   "execution_count": 21,
   "id": "immune-least",
   "metadata": {},
   "outputs": [
    {
     "name": "stdout",
     "output_type": "stream",
     "text": [
      "KNN correct: 5165/10445\n",
      "LR correct: 5665/10445\n"
     ]
    }
   ],
   "source": [
    "count = X_test.shape[0]\n",
    "preds = clfknn.predict(X_test)\n",
    "correct = 0\n",
    "\n",
    "for i in range(count):\n",
    "    correct += (np.sign(X_test[i][-1] - preds[i]) == np.sign(X_test[i][-1] - Y_test[i]))\n",
    "    \n",
    "print('KNN correct: %d/%d' % (correct, count))\n",
    "\n",
    "preds = model_LR.predict(X_test)\n",
    "correct = 0\n",
    "\n",
    "for i in range(count):\n",
    "    correct += (np.sign(X_test[i][-1] - preds[i]) == np.sign(X_test[i][-1] - Y_test[i]))\n",
    "    \n",
    "print('LR correct: %d/%d' % (correct, count))"
   ]
  }
 ],
 "metadata": {
  "kernelspec": {
   "display_name": "Python 3",
   "language": "python",
   "name": "python3"
  },
  "language_info": {
   "codemirror_mode": {
    "name": "ipython",
    "version": 3
   },
   "file_extension": ".py",
   "mimetype": "text/x-python",
   "name": "python",
   "nbconvert_exporter": "python",
   "pygments_lexer": "ipython3",
   "version": "3.8.5"
  }
 },
 "nbformat": 4,
 "nbformat_minor": 5
}
